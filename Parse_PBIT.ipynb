{
 "cells": [
  {
   "cell_type": "code",
   "execution_count": 1,
   "metadata": {},
   "outputs": [],
   "source": [
    "import os\n",
    "import zipfile\n",
    "import json\n",
    "import re"
   ]
  },
  {
   "cell_type": "code",
   "execution_count": 8,
   "metadata": {},
   "outputs": [],
   "source": [
    "# XML macro expand block: start[0], end[1]\n",
    "list_expand = ['''<ac:structured-macro ac:macro-id=\"f0500336-571b-4170-813e-cafd846b76da\" ac:name=\"expand\" ac:schema-version=\"1\">\n",
    "  <ac:rich-text-body>\\n''', '''\\n</ac:rich-text-body>\n",
    "</ac:structured-macro>''']\n",
    "\n",
    "# XML macro code block: start[0], end[1]\n",
    "list_code = ['''<ac:structured-macro ac:macro-id=\"52e1fb62-54c6-4b20-81a5-47d910f774ec\" ac:name=\"code\" ac:schema-version=\"1\">\n",
    "      <ac:plain-text-body><![CDATA[''', ''']]></ac:plain-text-body>\n",
    "    </ac:structured-macro>''']\n",
    "\n",
    "\n",
    "def create_dot_list_col(list_columns, dict_type_column = False, name_table = False):\n",
    "    if dict_type_column and name_table:\n",
    "        list_li_columns = []\n",
    "        for col in list_columns:\n",
    "            if name_table + ' ' + col in dict_type_column.keys():\n",
    "                list_li_columns.append('  <li>' + col + '(' + dict_type_column[name_table + ' ' + col]['type'] + ')' + '</li>\\n')\n",
    "            else:\n",
    "                list_li_columns.append('  <li>' + col + '</li>\\n')\n",
    "    else:       \n",
    "        list_li_columns = ['  <li>' + x + '</li>\\n' for x in list_columns]\n",
    "    return '<ul>\\n'+ ''.join(list_li_columns) + '</ul>\\n'"
   ]
  },
  {
   "cell_type": "code",
   "execution_count": null,
   "metadata": {},
   "outputs": [],
   "source": [
    "# Set the absolute path to 'DATA' folder and print all files in there\n",
    "if 'DATA' in os.listdir():\n",
    "    path_to_file = os.path.join(os.getcwd(), 'DATA')\n",
    "    print('Files in folder DATA', os.listdir(path_to_file))\n",
    "else:\n",
    "    print('Create a folder \"DATA\" in the same directiry as the script and move the .pbit file there')"
   ]
  },
  {
   "cell_type": "code",
   "execution_count": null,
   "metadata": {},
   "outputs": [],
   "source": [
    "# Set file Name\n",
    "str_file_name = 'Dashboard.pbit'\n",
    "if str_file_name[-5:].lower() != '.pbit':\n",
    "    str_file_name += '.pbit'\n",
    "    \n",
    "print(f'Selected \"{str_file_name}\"')\n",
    "\n",
    "if os.path.exists(path_to_file):\n",
    "    if str_file_name in os.listdir(path_to_file):\n",
    "        path_and_file = os.path.join(path_to_file, str_file_name)\n",
    "    else:\n",
    "        print('File not found')\n",
    "else:\n",
    "    print('Path not found')    "
   ]
  },
  {
   "cell_type": "code",
   "execution_count": 4,
   "metadata": {},
   "outputs": [
    {
     "name": "stdout",
     "output_type": "stream",
     "text": [
      "Number of lines in DataModelSchema: 20666\n"
     ]
    }
   ],
   "source": [
    "# Open pbit archive and loads json \"DataModelSchema\"\n",
    "with zipfile.ZipFile(path_and_file, mode=\"r\") as archive:\n",
    "    str_DataModelSchema = archive.read(\"DataModelSchema\").decode(encoding=\"utf-16\")\n",
    "json_DataModelSchema = json.loads(str_DataModelSchema)\n",
    "\n",
    "print('Number of lines in DataModelSchema:' , str_DataModelSchema.count('\\n'))"
   ]
  },
  {
   "cell_type": "code",
   "execution_count": 5,
   "metadata": {},
   "outputs": [],
   "source": [
    "# Parse: Table Name, Columns Name and Source of Table\n",
    "dict_table_col = {}\n",
    "dict_table_source = {}\n",
    "dict_measures = {}\n",
    "dict_col_type = {}\n",
    "\n",
    "\n",
    "for table in json_DataModelSchema['model']['tables']:\n",
    "    if 'isHidden' not in table.keys():\n",
    "        if 'columns' in table.keys():\n",
    "            dict_table_col[table['name']] = [col['name'] for col in table['columns'] if 'isHidden' not in col.keys()]\n",
    "            dict_table_source[table['name']] = table['partitions'][0]['source']['expression'][1].replace('#(lf)', '\\n')\n",
    "            for col in table['columns']:\n",
    "                if 'type' in col.keys() and 'expression' in col.keys() and 'isHidden' not in col.keys():\n",
    "                    dict_col_type[table['name'] + ' ' + col['name']] = {'type':col['type'], 'expression':''.join(col['expression'])}\n",
    "            if 'measures' in table.keys():\n",
    "                dict_measures[table['name']] = {measure['name']:measure['expression'] for measure in table['measures'] if 'expression' in measure.keys()}\n",
    "        else: # Measure Table\n",
    "            dict_measures[table['name']] = {measure['name']:measure['expression'] for measure in table['measures']}\n",
    "    "
   ]
  },
  {
   "cell_type": "code",
   "execution_count": 9,
   "metadata": {},
   "outputs": [],
   "source": [
    "# Make xml file for the wiki page\n",
    "\n",
    "str_result_text = ''\n",
    "str_result_text += '<h2>\\n  <strong>Tables:</strong>\\n</h2>\\n'\n",
    "for table in dict_table_col.keys():\n",
    "    str_result_text += '<p>\\n  <strong>' + table + '</strong>\\n</p>\\n'\n",
    "    str_result_text += list_expand[0] + create_dot_list_col(dict_table_col[table], dict_col_type, table) \n",
    "    str_result_text += list_code[0] + dict_table_source[table] + list_code[-1] + list_expand[-1]\n",
    "\n",
    "\n",
    "str_result_text += '<h2>\\n  <strong>Measures:</strong>\\n</h2>\\n'\n",
    "\n",
    "for table_measures in dict_measures:\n",
    "    str_result_text += '<p>\\n  <strong>' + table_measures + '</strong>\\n</p>\\n'\n",
    "    str_result_text += list_expand[0]\n",
    "    for mesure in dict_measures[table_measures]:\n",
    "        str_result_text += mesure + '\\n'\n",
    "        str_result_text += list_code[0] + ''.join(list(dict_measures[table_measures][mesure])) + list_code[-1] + '\\n'\n",
    "    str_result_text += list_expand[-1]\n",
    "\n",
    "str_result_text += '<h2>\\n  <strong>Calculated columns:</strong>\\n</h2>\\n'\n",
    "str_result_text += list_expand[0]\n",
    "\n",
    "for col_name in dict_col_type:    \n",
    "    str_result_text += col_name + '\\n'\n",
    "    str_result_text += list_code[0] + ''.join(list(dict_col_type[col_name]['expression'])) + list_code[-1] + '\\n'\n",
    "\n",
    "str_result_text += list_expand[-1]\n",
    "\n",
    "str_result_text = str_result_text.replace('#(tab)', '    ')\n",
    "\n",
    "str_result_text = str_result_text.replace('&', '&amp;')\n",
    "\n",
    "# str_result_text = str_result_text.replace('<', '&lt;')\n",
    "\n",
    "with open('wik_page.xml', 'w') as f:\n",
    "    f.write(str_result_text)"
   ]
  }
 ],
 "metadata": {
  "kernelspec": {
   "display_name": "Python 3.11.1 64-bit",
   "language": "python",
   "name": "python3"
  },
  "language_info": {
   "codemirror_mode": {
    "name": "ipython",
    "version": 3
   },
   "file_extension": ".py",
   "mimetype": "text/x-python",
   "name": "python",
   "nbconvert_exporter": "python",
   "pygments_lexer": "ipython3",
   "version": "3.11.1"
  },
  "orig_nbformat": 4,
  "vscode": {
   "interpreter": {
    "hash": "1a1af0ee75eeea9e2e1ee996c87e7a2b11a0bebd85af04bb136d915cefc0abce"
   }
  }
 },
 "nbformat": 4,
 "nbformat_minor": 2
}
